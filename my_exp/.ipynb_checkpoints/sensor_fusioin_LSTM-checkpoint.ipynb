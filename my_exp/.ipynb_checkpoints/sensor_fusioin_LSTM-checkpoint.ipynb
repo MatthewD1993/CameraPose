{
 "cells": [
  {
   "cell_type": "code",
   "execution_count": 1,
   "metadata": {
    "collapsed": true
   },
   "outputs": [],
   "source": [
    "# EuRoC data handler\n",
    "import pandas as pd\n",
    "import numpy as np\n",
    "# class euroc_data():\n",
    "# \tdef __init__(self,groundtruth_path):\n",
    "# \t\tgt_frame = pd.read_csv(groundtruth_path,'r')\n",
    "GROUNDTRUTH_PATH = '/home/cdeng/EuRoC/mav0/\\\n",
    "state_groundtruth_estimate0/data.csv'\n",
    "IMU_PATH = '/home/cdeng/EuRoC/mav0/imu0/data.csv'"
   ]
  },
  {
   "cell_type": "code",
   "execution_count": 2,
   "metadata": {
    "collapsed": true
   },
   "outputs": [],
   "source": [
    "gt_dataframe = pd.read_csv(GROUNDTRUTH_PATH, index_col=0)\n",
    "imu_dataframe = pd.read_csv(IMU_PATH, index_col=0)\n",
    "# print(gt_dataframe.head(3))\n",
    "# print('-----------------')\n",
    "# print(imu_dataframe.head(3))"
   ]
  },
  {
   "cell_type": "code",
   "execution_count": 3,
   "metadata": {},
   "outputs": [
    {
     "name": "stdout",
     "output_type": "stream",
     "text": [
      "1403636580838555648 1403636762738555392\n"
     ]
    }
   ],
   "source": [
    "# Find the start and end time stamp of the ground truth, \n",
    "# and extract relevant imu data frame, gt and imu should be same length  \n",
    "groudtruth_data = gt_dataframe.iloc[:-1,0:7]\n",
    "start_time, end_time = groudtruth_data.index[0], groudtruth_data.index[-1]\n",
    "print (start_time, end_time)"
   ]
  },
  {
   "cell_type": "code",
   "execution_count": 4,
   "metadata": {},
   "outputs": [
    {
     "name": "stdout",
     "output_type": "stream",
     "text": [
      "216 36596\n"
     ]
    }
   ],
   "source": [
    "# Set threshold to 2 000 000 ns, because the time interval between imu data is 5 000 000 ns\n",
    "threshold = 1000000\n",
    "[imu_start_idx, imu_end_idx] = [idx for (idx, timestamp) in enumerate(imu_dataframe.index)  \\\n",
    "    if (abs(timestamp-start_time)<threshold or abs(timestamp-end_time)<threshold)]\n",
    "print (imu_start_idx, imu_end_idx)"
   ]
  },
  {
   "cell_type": "code",
   "execution_count": 5,
   "metadata": {
    "collapsed": true
   },
   "outputs": [],
   "source": [
    "# for timestamp in imu_dataframe['#timestamp [ns]']:\n",
    "#     if (abs(timestamp-start_time)<threshold or abs(timestamp-end_time)<threshold):\n",
    "#         print (timestamp)"
   ]
  },
  {
   "cell_type": "code",
   "execution_count": 6,
   "metadata": {},
   "outputs": [
    {
     "name": "stdout",
     "output_type": "stream",
     "text": [
      "(36381, 6)\n",
      "(36381, 7)\n"
     ]
    },
    {
     "data": {
      "text/html": [
       "<div>\n",
       "<style>\n",
       "    .dataframe thead tr:only-child th {\n",
       "        text-align: right;\n",
       "    }\n",
       "\n",
       "    .dataframe thead th {\n",
       "        text-align: left;\n",
       "    }\n",
       "\n",
       "    .dataframe tbody tr th {\n",
       "        vertical-align: top;\n",
       "    }\n",
       "</style>\n",
       "<table border=\"1\" class=\"dataframe\">\n",
       "  <thead>\n",
       "    <tr style=\"text-align: right;\">\n",
       "      <th></th>\n",
       "      <th>w_RS_S_x [rad s^-1]</th>\n",
       "      <th>w_RS_S_y [rad s^-1]</th>\n",
       "      <th>w_RS_S_z [rad s^-1]</th>\n",
       "      <th>a_RS_S_x [m s^-2]</th>\n",
       "      <th>a_RS_S_y [m s^-2]</th>\n",
       "      <th>a_RS_S_z [m s^-2]</th>\n",
       "    </tr>\n",
       "    <tr>\n",
       "      <th>#timestamp [ns]</th>\n",
       "      <th></th>\n",
       "      <th></th>\n",
       "      <th></th>\n",
       "      <th></th>\n",
       "      <th></th>\n",
       "      <th></th>\n",
       "    </tr>\n",
       "  </thead>\n",
       "  <tbody>\n",
       "    <tr>\n",
       "      <th>1403636762718555392</th>\n",
       "      <td>-0.055851</td>\n",
       "      <td>0.184307</td>\n",
       "      <td>-0.169646</td>\n",
       "      <td>8.229414</td>\n",
       "      <td>0.784532</td>\n",
       "      <td>-2.075741</td>\n",
       "    </tr>\n",
       "    <tr>\n",
       "      <th>1403636762723555584</th>\n",
       "      <td>-0.108909</td>\n",
       "      <td>0.070511</td>\n",
       "      <td>-0.157080</td>\n",
       "      <td>9.496106</td>\n",
       "      <td>-0.204305</td>\n",
       "      <td>-4.135137</td>\n",
       "    </tr>\n",
       "    <tr>\n",
       "      <th>1403636762728555520</th>\n",
       "      <td>-0.077493</td>\n",
       "      <td>0.181514</td>\n",
       "      <td>-0.208043</td>\n",
       "      <td>7.028099</td>\n",
       "      <td>-0.449471</td>\n",
       "      <td>-2.043052</td>\n",
       "    </tr>\n",
       "    <tr>\n",
       "      <th>1403636762733555456</th>\n",
       "      <td>-0.086568</td>\n",
       "      <td>0.016755</td>\n",
       "      <td>-0.169646</td>\n",
       "      <td>9.635034</td>\n",
       "      <td>-0.286027</td>\n",
       "      <td>-3.383294</td>\n",
       "    </tr>\n",
       "  </tbody>\n",
       "</table>\n",
       "</div>"
      ],
      "text/plain": [
       "                     w_RS_S_x [rad s^-1]  w_RS_S_y [rad s^-1]  \\\n",
       "#timestamp [ns]                                                 \n",
       "1403636762718555392            -0.055851             0.184307   \n",
       "1403636762723555584            -0.108909             0.070511   \n",
       "1403636762728555520            -0.077493             0.181514   \n",
       "1403636762733555456            -0.086568             0.016755   \n",
       "\n",
       "                     w_RS_S_z [rad s^-1]  a_RS_S_x [m s^-2]  \\\n",
       "#timestamp [ns]                                               \n",
       "1403636762718555392            -0.169646           8.229414   \n",
       "1403636762723555584            -0.157080           9.496106   \n",
       "1403636762728555520            -0.208043           7.028099   \n",
       "1403636762733555456            -0.169646           9.635034   \n",
       "\n",
       "                     a_RS_S_y [m s^-2]  a_RS_S_z [m s^-2]  \n",
       "#timestamp [ns]                                            \n",
       "1403636762718555392           0.784532          -2.075741  \n",
       "1403636762723555584          -0.204305          -4.135137  \n",
       "1403636762728555520          -0.449471          -2.043052  \n",
       "1403636762733555456          -0.286027          -3.383294  "
      ]
     },
     "execution_count": 6,
     "metadata": {},
     "output_type": "execute_result"
    }
   ],
   "source": [
    "# ---------imu data at t-1 is used to predicate gt at t\n",
    "# Groundtruth is for image 1-n, [first_image_middle_exp_time, last_image_middle_exp_time], that't why the number of \n",
    "# datapoints end with 1.\n",
    "imu_data = imu_dataframe[imu_start_idx-1:imu_end_idx].copy()\n",
    "\n",
    "if (groudtruth_data.shape[0] != imu_data.shape[0]):\n",
    "    print(\"'Error: groundtruth and imu data don't have the same lenght'\")\n",
    "print (imu_data.shape)\n",
    "print (groudtruth_data.shape)\n",
    "\n",
    "imu_data.tail(4)\n",
    "# imu_data.iloc[1:3]\n",
    "# imu_dataframe[0:6]"
   ]
  },
  {
   "cell_type": "code",
   "execution_count": 8,
   "metadata": {},
   "outputs": [
    {
     "name": "stderr",
     "output_type": "stream",
     "text": [
      "Using TensorFlow backend.\n"
     ]
    }
   ],
   "source": [
    "# Use the simple keras deep learning API\n",
    "import tensorflow as tf\n",
    "from sklearn.metrics import mean_squared_error\n",
    "from keras.models import Sequential\n",
    "from keras.callbacks import TensorBoard\n",
    "from keras.layers import Dense\n",
    "from keras.layers import LSTM\n",
    "from math import sqrt\n",
    "import time"
   ]
  },
  {
   "cell_type": "code",
   "execution_count": 12,
   "metadata": {},
   "outputs": [],
   "source": [
    "# # This is saved for more formalized representation\n",
    "\n",
    "# # After studying the dataset, ignore the last data from ground truth. Because the second last element \n",
    "# # has the timestamp that happens to be the middle point of image 3661 and 3662 (opened in Office, column index)\n",
    "# datasize = imu_data.shape[0] \n",
    "# train_val_split_ratio = 0.7\n",
    "# training_size = int(datasize*train_val_split_ratio//10*10)\n",
    "# print('Training size is: {} \\n Testing size is: {}'.format(training_size, datasize-training_size))\n",
    "# training_input = imu_data[:training_size]\n",
    "# training_groudtruth = groudtruth_data[:training_size]\n",
    "# testing_input = imu_data[training_size:]\n",
    "# testing_groundtruth = groudtruth_data[training_size:]\n",
    "# # imu_data.iloc[0]\n",
    "# # imu_data.iloc[0]\n",
    "\n",
    "# def find_error(model, batch_size, input_data, groundtruth):\n",
    "#     X = input_data.reshape(input_data.shape[0],1,input_data.shape[1])    \n",
    "#     predictions = model.predict(X,batch_size)\n",
    "#     error = mean_squared_error(predictions,groundtruth)\n",
    "#     return error\n",
    "# def fit_lstm(find_error, log_dir, training_input, training_groudtruth, batch_size, num_epoch, neurons):\n",
    "#     # For now, I set sequence length to 1, in reality, it is better to be 10.\n",
    "#     print (training_input.shape)\n",
    "#     # IMU 200Hz,   1 min = 1200 samples\n",
    "#     series_length = 200\n",
    "#     num_episodes  = (training_input.shape[0]//series_length)\n",
    "#     X = training_input[:num_episodes*series_length,:].reshape(num_episodes, series_length, training_input.shape[1])\n",
    "#     y = training_groudtruth[:num_episodes*series_length].reshape(num_episodes,series_length*training_groudtruth.shape[1])\n",
    "#     model = Sequential()\n",
    "#     model.add(LSTM(neurons, batch_input_shape=(batch_size, X.shape[1], X.shape[2]), stateful=True,))\n",
    "#     model.add(Dense(7))\n",
    "#     model.compile(loss='mse', optimizer='adam')\n",
    "#     tbCallBack = TensorBoard(log_dir=log_dir, histogram_freq=0, write_graph=True,)\n",
    "#     for i in range(num_epoch):\n",
    "#         start = time.time()\n",
    "#         model.fit(X, y, epochs=1, batch_size=batch_size, verbose=0,shuffle=False, callbacks=[tbCallBack])\n",
    "#         end = time.time()\n",
    "#         error = find_error(model,1,training_input, training_groudtruth)\n",
    "#         print ('Error at epoch %d is %f . Time consumed is %f seconds'%(i, error, end-start))\n",
    "        \n",
    "#         model.reset_states()\n",
    "#     return model\n",
    "\n",
    "# # Find a way to record the error and some other data for visualizing\n",
    "# log_dir = '/home/cdeng/master/tmp/logs/sensor_fusion_LSTM'\n",
    "\n",
    "\n",
    "# training_input = np.array(training_input)[:100,:]\n",
    "# print (training_input.shape)\n",
    "# training_groudtruth = np.array(training_groudtruth)[:100,:]\n",
    "# testing_input = np.array(training_input)\n",
    "# testing_groundtruth = np.array(testing_groundtruth)\n",
    "# lstm_model = fit_lstm(find_error, log_dir, training_input, training_groudtruth, batch_size=1, num_epoch=100,neurons=64)"
   ]
  },
  {
   "cell_type": "code",
   "execution_count": 41,
   "metadata": {},
   "outputs": [
    {
     "name": "stdout",
     "output_type": "stream",
     "text": [
      " Training size is: 25460 \n",
      " Testing size is: 10921\n",
      "(1000, 6)\n"
     ]
    },
    {
     "name": "stderr",
     "output_type": "stream",
     "text": [
      "/home/cdeng/anaconda3/lib/python3.6/site-packages/ipykernel_launcher.py:43: UserWarning: The `input_dim` and `input_length` arguments in recurrent layers are deprecated. Use `input_shape` instead.\n",
      "/home/cdeng/anaconda3/lib/python3.6/site-packages/ipykernel_launcher.py:43: UserWarning: Update your `LSTM` call to the Keras 2 API: `LSTM(64, stateful=False, return_sequences=True, input_shape=(200, 6))`\n"
     ]
    },
    {
     "ename": "ImportError",
     "evalue": "Failed to import pydot. You must install pydot and graphviz for `pydotprint` to work.",
     "output_type": "error",
     "traceback": [
      "\u001b[0;31m---------------------------------------------------------------------------\u001b[0m",
      "\u001b[0;31mAttributeError\u001b[0m                            Traceback (most recent call last)",
      "\u001b[0;32m/home/cdeng/anaconda3/lib/python3.6/site-packages/keras/utils/vis_utils.py\u001b[0m in \u001b[0;36m_check_pydot\u001b[0;34m()\u001b[0m\n\u001b[1;32m     22\u001b[0m         \u001b[0;31m# to check the pydot/graphviz installation.\u001b[0m\u001b[0;34m\u001b[0m\u001b[0;34m\u001b[0m\u001b[0m\n\u001b[0;32m---> 23\u001b[0;31m         \u001b[0mpydot\u001b[0m\u001b[0;34m.\u001b[0m\u001b[0mDot\u001b[0m\u001b[0;34m.\u001b[0m\u001b[0mcreate\u001b[0m\u001b[0;34m(\u001b[0m\u001b[0mpydot\u001b[0m\u001b[0;34m.\u001b[0m\u001b[0mDot\u001b[0m\u001b[0;34m(\u001b[0m\u001b[0;34m)\u001b[0m\u001b[0;34m)\u001b[0m\u001b[0;34m\u001b[0m\u001b[0m\n\u001b[0m\u001b[1;32m     24\u001b[0m     \u001b[0;32mexcept\u001b[0m \u001b[0mException\u001b[0m\u001b[0;34m:\u001b[0m\u001b[0;34m\u001b[0m\u001b[0m\n",
      "\u001b[0;31mAttributeError\u001b[0m: 'NoneType' object has no attribute 'Dot'",
      "\nDuring handling of the above exception, another exception occurred:\n",
      "\u001b[0;31mImportError\u001b[0m                               Traceback (most recent call last)",
      "\u001b[0;32m<ipython-input-41-e2da212e3d6b>\u001b[0m in \u001b[0;36m<module>\u001b[0;34m()\u001b[0m\n\u001b[1;32m     44\u001b[0m \u001b[0mmodel\u001b[0m\u001b[0;34m.\u001b[0m\u001b[0madd\u001b[0m\u001b[0;34m(\u001b[0m\u001b[0mDense\u001b[0m\u001b[0;34m(\u001b[0m\u001b[0;36m7\u001b[0m\u001b[0;34m)\u001b[0m\u001b[0;34m)\u001b[0m\u001b[0;34m\u001b[0m\u001b[0m\n\u001b[1;32m     45\u001b[0m \u001b[0mmodel\u001b[0m\u001b[0;34m.\u001b[0m\u001b[0mcompile\u001b[0m\u001b[0;34m(\u001b[0m\u001b[0mloss\u001b[0m\u001b[0;34m=\u001b[0m\u001b[0;34m'mse'\u001b[0m\u001b[0;34m,\u001b[0m \u001b[0moptimizer\u001b[0m\u001b[0;34m=\u001b[0m\u001b[0;34m'adam'\u001b[0m\u001b[0;34m)\u001b[0m\u001b[0;34m\u001b[0m\u001b[0m\n\u001b[0;32m---> 46\u001b[0;31m \u001b[0mSVG\u001b[0m\u001b[0;34m(\u001b[0m\u001b[0mmodel_to_dot\u001b[0m\u001b[0;34m(\u001b[0m\u001b[0mmodel\u001b[0m\u001b[0;34m)\u001b[0m\u001b[0;34m.\u001b[0m\u001b[0mcreate\u001b[0m\u001b[0;34m(\u001b[0m\u001b[0mprog\u001b[0m\u001b[0;34m=\u001b[0m\u001b[0;34m'dot'\u001b[0m\u001b[0;34m,\u001b[0m \u001b[0mformat\u001b[0m\u001b[0;34m=\u001b[0m\u001b[0;34m'svg'\u001b[0m\u001b[0;34m)\u001b[0m\u001b[0;34m)\u001b[0m\u001b[0;34m\u001b[0m\u001b[0m\n\u001b[0m\u001b[1;32m     47\u001b[0m \u001b[0mtbCallBack\u001b[0m \u001b[0;34m=\u001b[0m \u001b[0mTensorBoard\u001b[0m\u001b[0;34m(\u001b[0m\u001b[0mlog_dir\u001b[0m\u001b[0;34m=\u001b[0m\u001b[0mlog_dir\u001b[0m\u001b[0;34m,\u001b[0m \u001b[0mhistogram_freq\u001b[0m\u001b[0;34m=\u001b[0m\u001b[0;36m0\u001b[0m\u001b[0;34m,\u001b[0m \u001b[0mwrite_graph\u001b[0m\u001b[0;34m=\u001b[0m\u001b[0;32mTrue\u001b[0m\u001b[0;34m,\u001b[0m\u001b[0;34m)\u001b[0m\u001b[0;34m\u001b[0m\u001b[0m\n\u001b[1;32m     48\u001b[0m \u001b[0;32mfor\u001b[0m \u001b[0mi\u001b[0m \u001b[0;32min\u001b[0m \u001b[0mrange\u001b[0m\u001b[0;34m(\u001b[0m\u001b[0mnum_epoch\u001b[0m\u001b[0;34m)\u001b[0m\u001b[0;34m:\u001b[0m\u001b[0;34m\u001b[0m\u001b[0m\n",
      "\u001b[0;32m/home/cdeng/anaconda3/lib/python3.6/site-packages/keras/utils/vis_utils.py\u001b[0m in \u001b[0;36mmodel_to_dot\u001b[0;34m(model, show_shapes, show_layer_names, rankdir)\u001b[0m\n\u001b[1;32m     50\u001b[0m     \u001b[0;32mfrom\u001b[0m \u001b[0;34m.\u001b[0m\u001b[0;34m.\u001b[0m\u001b[0mmodels\u001b[0m \u001b[0;32mimport\u001b[0m \u001b[0mSequential\u001b[0m\u001b[0;34m\u001b[0m\u001b[0m\n\u001b[1;32m     51\u001b[0m \u001b[0;34m\u001b[0m\u001b[0m\n\u001b[0;32m---> 52\u001b[0;31m     \u001b[0m_check_pydot\u001b[0m\u001b[0;34m(\u001b[0m\u001b[0;34m)\u001b[0m\u001b[0;34m\u001b[0m\u001b[0m\n\u001b[0m\u001b[1;32m     53\u001b[0m     \u001b[0mdot\u001b[0m \u001b[0;34m=\u001b[0m \u001b[0mpydot\u001b[0m\u001b[0;34m.\u001b[0m\u001b[0mDot\u001b[0m\u001b[0;34m(\u001b[0m\u001b[0;34m)\u001b[0m\u001b[0;34m\u001b[0m\u001b[0m\n\u001b[1;32m     54\u001b[0m     \u001b[0mdot\u001b[0m\u001b[0;34m.\u001b[0m\u001b[0mset\u001b[0m\u001b[0;34m(\u001b[0m\u001b[0;34m'rankdir'\u001b[0m\u001b[0;34m,\u001b[0m \u001b[0mrankdir\u001b[0m\u001b[0;34m)\u001b[0m\u001b[0;34m\u001b[0m\u001b[0m\n",
      "\u001b[0;32m/home/cdeng/anaconda3/lib/python3.6/site-packages/keras/utils/vis_utils.py\u001b[0m in \u001b[0;36m_check_pydot\u001b[0;34m()\u001b[0m\n\u001b[1;32m     25\u001b[0m         \u001b[0;31m# pydot raises a generic Exception here,\u001b[0m\u001b[0;34m\u001b[0m\u001b[0;34m\u001b[0m\u001b[0m\n\u001b[1;32m     26\u001b[0m         \u001b[0;31m# so no specific class can be caught.\u001b[0m\u001b[0;34m\u001b[0m\u001b[0;34m\u001b[0m\u001b[0m\n\u001b[0;32m---> 27\u001b[0;31m         raise ImportError('Failed to import pydot. You must install pydot'\n\u001b[0m\u001b[1;32m     28\u001b[0m                           ' and graphviz for `pydotprint` to work.')\n\u001b[1;32m     29\u001b[0m \u001b[0;34m\u001b[0m\u001b[0m\n",
      "\u001b[0;31mImportError\u001b[0m: Failed to import pydot. You must install pydot and graphviz for `pydotprint` to work."
     ]
    }
   ],
   "source": [
    "from keras.utils.vis_utils import model_to_dot\n",
    "import pydot\n",
    "import graphviz\n",
    "from IPython.display import SVG\n",
    "# After studying the dataset, ignore the last data from ground truth. Because the second last element \n",
    "# has the timestamp that happens to be the middle point of image 3661 and 3662 (opened in Office, column index)\n",
    "datasize = imu_data.shape[0] \n",
    "train_val_split_ratio = 0.7\n",
    "training_size = int(datasize*train_val_split_ratio//10*10)\n",
    "print(' Training size is: {} \\n Testing size is: {}'.format(training_size, datasize-training_size))\n",
    "training_input = imu_data[:training_size]\n",
    "training_groudtruth = groudtruth_data[:training_size]\n",
    "testing_input = imu_data[training_size:]\n",
    "testing_groundtruth = groudtruth_data[training_size:]\n",
    "\n",
    "\n",
    "def report_loss(model, batch_size, input_data, groundtruth):\n",
    "    X = input_data.reshape(1,input_data.shape[0],input_data.shape[1])    \n",
    "    predictions = model.predict(X,batch_size)\n",
    "    loss = mean_squared_error(predictions,groundtruth)\n",
    "    print ('predictionis shape is ',predictions.shape)\n",
    "    return loss\n",
    "\n",
    "# Find a way to record the error and some other data for visualizing\n",
    "log_dir = '/home/cdeng/master/tmp/logs/sensor_fusion_LSTM'\n",
    "\n",
    "\n",
    "training_input = np.array(training_input)[:1000,:]\n",
    "training_groudtruth = np.array(training_groudtruth)[:1000,:]\n",
    "testing_input = np.array(training_input)\n",
    "testing_groundtruth = np.array(testing_groundtruth)\n",
    "print (training_input.shape)\n",
    "\n",
    "neurons = 64\n",
    "batch_size = 1\n",
    "num_epoch = 100\n",
    "# IMU 200Hz,   1 min = 1200 samples\n",
    "series_length = 200\n",
    "num_episodes  = (training_input.shape[0]//series_length)\n",
    "X = training_input[:num_episodes*series_length,:].reshape(num_episodes, series_length, training_input.shape[1])\n",
    "y = training_groudtruth[:num_episodes*series_length].reshape(num_episodes,series_length, training_groudtruth.shape[1])\n",
    "model = Sequential()\n",
    "model.add(LSTM(neurons, input_dim = X.shape[2], input_length=series_length, stateful=False, return_sequences=True))\n",
    "model.add(Dense(7))\n",
    "model.compile(loss='mse', optimizer='adam')\n",
    "SVG(model_to_dot(model).create(prog='dot', format='svg'))\n",
    "tbCallBack = TensorBoard(log_dir=log_dir, histogram_freq=0, write_graph=True,)\n",
    "for i in range(num_epoch):\n",
    "    start = time.time()\n",
    "    hist = model.fit(X, y, epochs=1, batch_size=batch_size, verbose=1,shuffle=False, callbacks=[tbCallBack])\n",
    "    end = time.time()\n",
    "    print (hist.hisory)\n",
    "    loss = report_loss(model,1,training_input, training_groudtruth)\n",
    "    print ('Error at epoch %d is %f . Time consumed is %f seconds'%(i, loss, end-start))\n",
    "\n",
    "    model.reset_states()"
   ]
  },
  {
   "cell_type": "code",
   "execution_count": 32,
   "metadata": {},
   "outputs": [],
   "source": [
    "model?"
   ]
  },
  {
   "cell_type": "code",
   "execution_count": null,
   "metadata": {
    "collapsed": true
   },
   "outputs": [],
   "source": []
  }
 ],
 "metadata": {
  "kernelspec": {
   "display_name": "Python 3",
   "language": "python",
   "name": "python3"
  },
  "language_info": {
   "codemirror_mode": {
    "name": "ipython",
    "version": 3
   },
   "file_extension": ".py",
   "mimetype": "text/x-python",
   "name": "python",
   "nbconvert_exporter": "python",
   "pygments_lexer": "ipython3",
   "version": "3.6.1"
  }
 },
 "nbformat": 4,
 "nbformat_minor": 2
}
