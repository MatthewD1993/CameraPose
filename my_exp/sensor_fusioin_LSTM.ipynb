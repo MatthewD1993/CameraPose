{
 "cells": [
  {
   "cell_type": "code",
   "execution_count": 1,
   "metadata": {},
   "outputs": [
    {
     "name": "stderr",
     "output_type": "stream",
     "text": [
      "Using TensorFlow backend.\n"
     ]
    }
   ],
   "source": [
    "# EuRoC data handler\n",
    "import pandas as pd\n",
    "import numpy as np\n",
    "\n",
    "# Use the simple keras deep learning API\n",
    "import tensorflow as tf\n",
    "from sklearn.metrics import mean_squared_error\n",
    "from keras.models import Sequential\n",
    "from keras.callbacks import TensorBoard\n",
    "from keras.layers import Dense\n",
    "from keras.layers import LSTM\n",
    "from keras.layers import TimeDistributed\n",
    "from math import sqrt\n",
    "import time\n",
    "\n",
    "# class euroc_data():\n",
    "# \tdef __init__(self,groundtruth_path):\n",
    "# \t\tgt_frame = pd.read_csv(groundtruth_path,'r')\n",
    "GROUNDTRUTH_PATH = '/home/cdeng/EuRoC/mav0/\\\n",
    "state_groundtruth_estimate0/data.csv'\n",
    "IMU_PATH = '/home/cdeng/EuRoC/mav0/imu0/data.csv'"
   ]
  },
  {
   "cell_type": "code",
   "execution_count": 2,
   "metadata": {
    "collapsed": true
   },
   "outputs": [],
   "source": [
    "gt_dataframe = pd.read_csv(GROUNDTRUTH_PATH, index_col=0)\n",
    "imu_dataframe = pd.read_csv(IMU_PATH, index_col=0)\n",
    "# print(gt_dataframe.head(3))\n",
    "# print('-----------------')\n",
    "# print(imu_dataframe.head(3))"
   ]
  },
  {
   "cell_type": "code",
   "execution_count": 3,
   "metadata": {},
   "outputs": [
    {
     "name": "stdout",
     "output_type": "stream",
     "text": [
      "1403636580838555648 1403636762738555392\n"
     ]
    }
   ],
   "source": [
    "# Find the start and end time stamp of the ground truth, \n",
    "# and extract relevant imu data frame, gt and imu should be same length  \n",
    "groudtruth_data = gt_dataframe.iloc[:-1,0:7]\n",
    "start_time, end_time = groudtruth_data.index[0], groudtruth_data.index[-1]\n",
    "print (start_time, end_time)"
   ]
  },
  {
   "cell_type": "code",
   "execution_count": 4,
   "metadata": {},
   "outputs": [
    {
     "name": "stdout",
     "output_type": "stream",
     "text": [
      "216 36596\n"
     ]
    }
   ],
   "source": [
    "# Set threshold to 2 000 000 ns, because the time interval between imu data is 5 000 000 ns\n",
    "threshold = 1000000\n",
    "[imu_start_idx, imu_end_idx] = [idx for (idx, timestamp) in enumerate(imu_dataframe.index)  \\\n",
    "    if (abs(timestamp-start_time)<threshold or abs(timestamp-end_time)<threshold)]\n",
    "print (imu_start_idx, imu_end_idx)"
   ]
  },
  {
   "cell_type": "code",
   "execution_count": 5,
   "metadata": {
    "collapsed": true
   },
   "outputs": [],
   "source": [
    "# for timestamp in imu_dataframe['#timestamp [ns]']:\n",
    "#     if (abs(timestamp-start_time)<threshold or abs(timestamp-end_time)<threshold):\n",
    "#         print (timestamp)"
   ]
  },
  {
   "cell_type": "code",
   "execution_count": 6,
   "metadata": {},
   "outputs": [
    {
     "name": "stdout",
     "output_type": "stream",
     "text": [
      "(36381, 6)\n",
      "(36381, 7)\n"
     ]
    },
    {
     "data": {
      "text/html": [
       "<div>\n",
       "<style>\n",
       "    .dataframe thead tr:only-child th {\n",
       "        text-align: right;\n",
       "    }\n",
       "\n",
       "    .dataframe thead th {\n",
       "        text-align: left;\n",
       "    }\n",
       "\n",
       "    .dataframe tbody tr th {\n",
       "        vertical-align: top;\n",
       "    }\n",
       "</style>\n",
       "<table border=\"1\" class=\"dataframe\">\n",
       "  <thead>\n",
       "    <tr style=\"text-align: right;\">\n",
       "      <th></th>\n",
       "      <th>w_RS_S_x [rad s^-1]</th>\n",
       "      <th>w_RS_S_y [rad s^-1]</th>\n",
       "      <th>w_RS_S_z [rad s^-1]</th>\n",
       "      <th>a_RS_S_x [m s^-2]</th>\n",
       "      <th>a_RS_S_y [m s^-2]</th>\n",
       "      <th>a_RS_S_z [m s^-2]</th>\n",
       "    </tr>\n",
       "    <tr>\n",
       "      <th>#timestamp [ns]</th>\n",
       "      <th></th>\n",
       "      <th></th>\n",
       "      <th></th>\n",
       "      <th></th>\n",
       "      <th></th>\n",
       "      <th></th>\n",
       "    </tr>\n",
       "  </thead>\n",
       "  <tbody>\n",
       "    <tr>\n",
       "      <th>1403636762718555392</th>\n",
       "      <td>-0.055851</td>\n",
       "      <td>0.184307</td>\n",
       "      <td>-0.169646</td>\n",
       "      <td>8.229414</td>\n",
       "      <td>0.784532</td>\n",
       "      <td>-2.075741</td>\n",
       "    </tr>\n",
       "    <tr>\n",
       "      <th>1403636762723555584</th>\n",
       "      <td>-0.108909</td>\n",
       "      <td>0.070511</td>\n",
       "      <td>-0.157080</td>\n",
       "      <td>9.496106</td>\n",
       "      <td>-0.204305</td>\n",
       "      <td>-4.135137</td>\n",
       "    </tr>\n",
       "    <tr>\n",
       "      <th>1403636762728555520</th>\n",
       "      <td>-0.077493</td>\n",
       "      <td>0.181514</td>\n",
       "      <td>-0.208043</td>\n",
       "      <td>7.028099</td>\n",
       "      <td>-0.449471</td>\n",
       "      <td>-2.043052</td>\n",
       "    </tr>\n",
       "    <tr>\n",
       "      <th>1403636762733555456</th>\n",
       "      <td>-0.086568</td>\n",
       "      <td>0.016755</td>\n",
       "      <td>-0.169646</td>\n",
       "      <td>9.635034</td>\n",
       "      <td>-0.286027</td>\n",
       "      <td>-3.383294</td>\n",
       "    </tr>\n",
       "  </tbody>\n",
       "</table>\n",
       "</div>"
      ],
      "text/plain": [
       "                     w_RS_S_x [rad s^-1]  w_RS_S_y [rad s^-1]  \\\n",
       "#timestamp [ns]                                                 \n",
       "1403636762718555392            -0.055851             0.184307   \n",
       "1403636762723555584            -0.108909             0.070511   \n",
       "1403636762728555520            -0.077493             0.181514   \n",
       "1403636762733555456            -0.086568             0.016755   \n",
       "\n",
       "                     w_RS_S_z [rad s^-1]  a_RS_S_x [m s^-2]  \\\n",
       "#timestamp [ns]                                               \n",
       "1403636762718555392            -0.169646           8.229414   \n",
       "1403636762723555584            -0.157080           9.496106   \n",
       "1403636762728555520            -0.208043           7.028099   \n",
       "1403636762733555456            -0.169646           9.635034   \n",
       "\n",
       "                     a_RS_S_y [m s^-2]  a_RS_S_z [m s^-2]  \n",
       "#timestamp [ns]                                            \n",
       "1403636762718555392           0.784532          -2.075741  \n",
       "1403636762723555584          -0.204305          -4.135137  \n",
       "1403636762728555520          -0.449471          -2.043052  \n",
       "1403636762733555456          -0.286027          -3.383294  "
      ]
     },
     "execution_count": 6,
     "metadata": {},
     "output_type": "execute_result"
    }
   ],
   "source": [
    "# ---------imu data at t-1 is used to predicate gt at t\n",
    "# Groundtruth is for image 1-n, [first_image_middle_exp_time, last_image_middle_exp_time], that't why the number of \n",
    "# datapoints end with 1.\n",
    "imu_data = imu_dataframe[imu_start_idx-1:imu_end_idx].copy()\n",
    "\n",
    "if (groudtruth_data.shape[0] != imu_data.shape[0]):\n",
    "    print(\"'Error: groundtruth and imu data don't have the same lenght'\")\n",
    "print (imu_data.shape)\n",
    "print (groudtruth_data.shape)\n",
    "\n",
    "imu_data.tail(4)\n",
    "# imu_data.iloc[1:3]\n",
    "# imu_dataframe[0:6]"
   ]
  },
  {
   "cell_type": "code",
   "execution_count": 7,
   "metadata": {
    "collapsed": true
   },
   "outputs": [],
   "source": [
    "# # This is saved for more formalized representation\n",
    "\n",
    "# # After studying the dataset, ignore the last data from ground truth. Because the second last element \n",
    "# # has the timestamp that happens to be the middle point of image 3661 and 3662 (opened in Office, column index)\n",
    "# datasize = imu_data.shape[0] \n",
    "# train_val_split_ratio = 0.7\n",
    "# training_size = int(datasize*train_val_split_ratio//10*10)\n",
    "# print('Training size is: {} \\n Testing size is: {}'.format(training_size, datasize-training_size))\n",
    "# training_input = imu_data[:training_size]\n",
    "# training_groudtruth = groudtruth_data[:training_size]\n",
    "# testing_input = imu_data[training_size:]\n",
    "# testing_groundtruth = groudtruth_data[training_size:]\n",
    "# # imu_data.iloc[0]\n",
    "# # imu_data.iloc[0]\n",
    "\n",
    "# def find_error(model, batch_size, input_data, groundtruth):\n",
    "#     X = input_data.reshape(input_data.shape[0],1,input_data.shape[1])    \n",
    "#     predictions = model.predict(X,batch_size)\n",
    "#     error = mean_squared_error(predictions,groundtruth)\n",
    "#     return error\n",
    "# def fit_lstm(find_error, log_dir, training_input, training_groudtruth, batch_size, num_epoch, neurons):\n",
    "#     # For now, I set sequence length to 1, in reality, it is better to be 10.\n",
    "#     print (training_input.shape)\n",
    "#     # IMU 200Hz,   1 min = 1200 samples\n",
    "#     series_length = 200\n",
    "#     num_episodes  = (training_input.shape[0]//series_length)\n",
    "#     X = training_input[:num_episodes*series_length,:].reshape(num_episodes, series_length, training_input.shape[1])\n",
    "#     y = training_groudtruth[:num_episodes*series_length].reshape(num_episodes,series_length*training_groudtruth.shape[1])\n",
    "#     model = Sequential()\n",
    "#     model.add(LSTM(neurons, batch_input_shape=(batch_size, X.shape[1], X.shape[2]), stateful=True,))\n",
    "#     model.add(Dense(7))\n",
    "#     model.compile(loss='mse', optimizer='adam')\n",
    "#     tbCallBack = TensorBoard(log_dir=log_dir, histogram_freq=0, write_graph=True,)\n",
    "#     for i in range(num_epoch):\n",
    "#         start = time.time()\n",
    "#         model.fit(X, y, epochs=1, batch_size=batch_size, verbose=0,shuffle=False, callbacks=[tbCallBack])\n",
    "#         end = time.time()\n",
    "#         error = find_error(model,1,training_input, training_groudtruth)\n",
    "#         print ('Error at epoch %d is %f . Time consumed is %f seconds'%(i, error, end-start))\n",
    "        \n",
    "#         model.reset_states()\n",
    "#     return model\n",
    "\n",
    "# # Find a way to record the error and some other data for visualizing\n",
    "# log_dir = '/home/cdeng/master/tmp/logs/sensor_fusion_LSTM'\n",
    "\n",
    "\n",
    "# training_input = np.array(training_input)[:100,:]\n",
    "# print (training_input.shape)\n",
    "# training_groudtruth = np.array(training_groudtruth)[:100,:]\n",
    "# testing_input = np.array(training_input)\n",
    "# testing_groundtruth = np.array(testing_groundtruth)\n",
    "# lstm_model = fit_lstm(find_error, log_dir, training_input, training_groudtruth, batch_size=1, num_epoch=100,neurons=64)"
   ]
  },
  {
   "cell_type": "code",
   "execution_count": 8,
   "metadata": {
    "scrolled": false
   },
   "outputs": [
    {
     "name": "stdout",
     "output_type": "stream",
     "text": [
      " Training size is: 25460 \n",
      " Testing size is: 10921\n",
      "(127, 200, 6)\n",
      "(127, 200, 7)\n",
      "(1, 10921, 6)\n",
      "(1, 10921, 7)\n"
     ]
    },
    {
     "name": "stderr",
     "output_type": "stream",
     "text": [
      "/home/cdeng/anaconda3/lib/python3.6/site-packages/ipykernel_launcher.py:62: UserWarning: The `input_dim` and `input_length` arguments in recurrent layers are deprecated. Use `input_shape` instead.\n",
      "/home/cdeng/anaconda3/lib/python3.6/site-packages/ipykernel_launcher.py:62: UserWarning: Update your `LSTM` call to the Keras 2 API: `LSTM(64, stateful=False, return_sequences=True, input_shape=(None, 6))`\n"
     ]
    },
    {
     "name": "stdout",
     "output_type": "stream",
     "text": [
      "Train on 127 samples, validate on 1 samples\n",
      "Epoch 1/1000\n",
      "127/127 [==============================] - 54s - loss: 2.4482 - val_loss: 3.1821\n",
      "Epoch 2/1000\n",
      "103/127 [=======================>......] - ETA: 8s - loss: 4.4109"
     ]
    },
    {
     "ename": "KeyboardInterrupt",
     "evalue": "",
     "output_type": "error",
     "traceback": [
      "\u001b[0;31m---------------------------------------------------------------------------\u001b[0m",
      "\u001b[0;31mKeyboardInterrupt\u001b[0m                         Traceback (most recent call last)",
      "\u001b[0;32m<ipython-input-8-9b3b3e488484>\u001b[0m in \u001b[0;36m<module>\u001b[0;34m()\u001b[0m\n\u001b[1;32m     69\u001b[0m \u001b[0;31m#     start = time.time()\u001b[0m\u001b[0;34m\u001b[0m\u001b[0;34m\u001b[0m\u001b[0m\n\u001b[1;32m     70\u001b[0m hist = model.fit(train_X, train_y, epochs=num_epoch, batch_size=batch_size, verbose=1, \n\u001b[0;32m---> 71\u001b[0;31m                      validation_data=(test_X, test_y), shuffle=False, callbacks=[tbCallBack] )\n\u001b[0m\u001b[1;32m     72\u001b[0m \u001b[0;31m#     end = time.time()\u001b[0m\u001b[0;34m\u001b[0m\u001b[0;34m\u001b[0m\u001b[0m\n\u001b[1;32m     73\u001b[0m \u001b[0;31m#     eva = model.evaluate(test_X, test_y, batch_size=batch_size, verbose=1)\u001b[0m\u001b[0;34m\u001b[0m\u001b[0;34m\u001b[0m\u001b[0m\n",
      "\u001b[0;32m/home/cdeng/anaconda3/lib/python3.6/site-packages/keras/models.py\u001b[0m in \u001b[0;36mfit\u001b[0;34m(self, x, y, batch_size, epochs, verbose, callbacks, validation_split, validation_data, shuffle, class_weight, sample_weight, initial_epoch, **kwargs)\u001b[0m\n\u001b[1;32m    861\u001b[0m                               \u001b[0mclass_weight\u001b[0m\u001b[0;34m=\u001b[0m\u001b[0mclass_weight\u001b[0m\u001b[0;34m,\u001b[0m\u001b[0;34m\u001b[0m\u001b[0m\n\u001b[1;32m    862\u001b[0m                               \u001b[0msample_weight\u001b[0m\u001b[0;34m=\u001b[0m\u001b[0msample_weight\u001b[0m\u001b[0;34m,\u001b[0m\u001b[0;34m\u001b[0m\u001b[0m\n\u001b[0;32m--> 863\u001b[0;31m                               initial_epoch=initial_epoch)\n\u001b[0m\u001b[1;32m    864\u001b[0m \u001b[0;34m\u001b[0m\u001b[0m\n\u001b[1;32m    865\u001b[0m     def evaluate(self, x, y, batch_size=32, verbose=1,\n",
      "\u001b[0;32m/home/cdeng/anaconda3/lib/python3.6/site-packages/keras/engine/training.py\u001b[0m in \u001b[0;36mfit\u001b[0;34m(self, x, y, batch_size, epochs, verbose, callbacks, validation_split, validation_data, shuffle, class_weight, sample_weight, initial_epoch, **kwargs)\u001b[0m\n\u001b[1;32m   1428\u001b[0m                               \u001b[0mval_f\u001b[0m\u001b[0;34m=\u001b[0m\u001b[0mval_f\u001b[0m\u001b[0;34m,\u001b[0m \u001b[0mval_ins\u001b[0m\u001b[0;34m=\u001b[0m\u001b[0mval_ins\u001b[0m\u001b[0;34m,\u001b[0m \u001b[0mshuffle\u001b[0m\u001b[0;34m=\u001b[0m\u001b[0mshuffle\u001b[0m\u001b[0;34m,\u001b[0m\u001b[0;34m\u001b[0m\u001b[0m\n\u001b[1;32m   1429\u001b[0m                               \u001b[0mcallback_metrics\u001b[0m\u001b[0;34m=\u001b[0m\u001b[0mcallback_metrics\u001b[0m\u001b[0;34m,\u001b[0m\u001b[0;34m\u001b[0m\u001b[0m\n\u001b[0;32m-> 1430\u001b[0;31m                               initial_epoch=initial_epoch)\n\u001b[0m\u001b[1;32m   1431\u001b[0m \u001b[0;34m\u001b[0m\u001b[0m\n\u001b[1;32m   1432\u001b[0m     \u001b[0;32mdef\u001b[0m \u001b[0mevaluate\u001b[0m\u001b[0;34m(\u001b[0m\u001b[0mself\u001b[0m\u001b[0;34m,\u001b[0m \u001b[0mx\u001b[0m\u001b[0;34m,\u001b[0m \u001b[0my\u001b[0m\u001b[0;34m,\u001b[0m \u001b[0mbatch_size\u001b[0m\u001b[0;34m=\u001b[0m\u001b[0;36m32\u001b[0m\u001b[0;34m,\u001b[0m \u001b[0mverbose\u001b[0m\u001b[0;34m=\u001b[0m\u001b[0;36m1\u001b[0m\u001b[0;34m,\u001b[0m \u001b[0msample_weight\u001b[0m\u001b[0;34m=\u001b[0m\u001b[0;32mNone\u001b[0m\u001b[0;34m)\u001b[0m\u001b[0;34m:\u001b[0m\u001b[0;34m\u001b[0m\u001b[0m\n",
      "\u001b[0;32m/home/cdeng/anaconda3/lib/python3.6/site-packages/keras/engine/training.py\u001b[0m in \u001b[0;36m_fit_loop\u001b[0;34m(self, f, ins, out_labels, batch_size, epochs, verbose, callbacks, val_f, val_ins, shuffle, callback_metrics, initial_epoch)\u001b[0m\n\u001b[1;32m   1077\u001b[0m                 \u001b[0mbatch_logs\u001b[0m\u001b[0;34m[\u001b[0m\u001b[0;34m'size'\u001b[0m\u001b[0;34m]\u001b[0m \u001b[0;34m=\u001b[0m \u001b[0mlen\u001b[0m\u001b[0;34m(\u001b[0m\u001b[0mbatch_ids\u001b[0m\u001b[0;34m)\u001b[0m\u001b[0;34m\u001b[0m\u001b[0m\n\u001b[1;32m   1078\u001b[0m                 \u001b[0mcallbacks\u001b[0m\u001b[0;34m.\u001b[0m\u001b[0mon_batch_begin\u001b[0m\u001b[0;34m(\u001b[0m\u001b[0mbatch_index\u001b[0m\u001b[0;34m,\u001b[0m \u001b[0mbatch_logs\u001b[0m\u001b[0;34m)\u001b[0m\u001b[0;34m\u001b[0m\u001b[0m\n\u001b[0;32m-> 1079\u001b[0;31m                 \u001b[0mouts\u001b[0m \u001b[0;34m=\u001b[0m \u001b[0mf\u001b[0m\u001b[0;34m(\u001b[0m\u001b[0mins_batch\u001b[0m\u001b[0;34m)\u001b[0m\u001b[0;34m\u001b[0m\u001b[0m\n\u001b[0m\u001b[1;32m   1080\u001b[0m                 \u001b[0;32mif\u001b[0m \u001b[0;32mnot\u001b[0m \u001b[0misinstance\u001b[0m\u001b[0;34m(\u001b[0m\u001b[0mouts\u001b[0m\u001b[0;34m,\u001b[0m \u001b[0mlist\u001b[0m\u001b[0;34m)\u001b[0m\u001b[0;34m:\u001b[0m\u001b[0;34m\u001b[0m\u001b[0m\n\u001b[1;32m   1081\u001b[0m                     \u001b[0mouts\u001b[0m \u001b[0;34m=\u001b[0m \u001b[0;34m[\u001b[0m\u001b[0mouts\u001b[0m\u001b[0;34m]\u001b[0m\u001b[0;34m\u001b[0m\u001b[0m\n",
      "\u001b[0;32m/home/cdeng/anaconda3/lib/python3.6/site-packages/keras/backend/tensorflow_backend.py\u001b[0m in \u001b[0;36m__call__\u001b[0;34m(self, inputs)\u001b[0m\n\u001b[1;32m   2266\u001b[0m         updated = session.run(self.outputs + [self.updates_op],\n\u001b[1;32m   2267\u001b[0m                               \u001b[0mfeed_dict\u001b[0m\u001b[0;34m=\u001b[0m\u001b[0mfeed_dict\u001b[0m\u001b[0;34m,\u001b[0m\u001b[0;34m\u001b[0m\u001b[0m\n\u001b[0;32m-> 2268\u001b[0;31m                               **self.session_kwargs)\n\u001b[0m\u001b[1;32m   2269\u001b[0m         \u001b[0;32mreturn\u001b[0m \u001b[0mupdated\u001b[0m\u001b[0;34m[\u001b[0m\u001b[0;34m:\u001b[0m\u001b[0mlen\u001b[0m\u001b[0;34m(\u001b[0m\u001b[0mself\u001b[0m\u001b[0;34m.\u001b[0m\u001b[0moutputs\u001b[0m\u001b[0;34m)\u001b[0m\u001b[0;34m]\u001b[0m\u001b[0;34m\u001b[0m\u001b[0m\n\u001b[1;32m   2270\u001b[0m \u001b[0;34m\u001b[0m\u001b[0m\n",
      "\u001b[0;32m/home/cdeng/anaconda3/lib/python3.6/site-packages/tensorflow/python/client/session.py\u001b[0m in \u001b[0;36mrun\u001b[0;34m(self, fetches, feed_dict, options, run_metadata)\u001b[0m\n\u001b[1;32m    787\u001b[0m     \u001b[0;32mtry\u001b[0m\u001b[0;34m:\u001b[0m\u001b[0;34m\u001b[0m\u001b[0m\n\u001b[1;32m    788\u001b[0m       result = self._run(None, fetches, feed_dict, options_ptr,\n\u001b[0;32m--> 789\u001b[0;31m                          run_metadata_ptr)\n\u001b[0m\u001b[1;32m    790\u001b[0m       \u001b[0;32mif\u001b[0m \u001b[0mrun_metadata\u001b[0m\u001b[0;34m:\u001b[0m\u001b[0;34m\u001b[0m\u001b[0m\n\u001b[1;32m    791\u001b[0m         \u001b[0mproto_data\u001b[0m \u001b[0;34m=\u001b[0m \u001b[0mtf_session\u001b[0m\u001b[0;34m.\u001b[0m\u001b[0mTF_GetBuffer\u001b[0m\u001b[0;34m(\u001b[0m\u001b[0mrun_metadata_ptr\u001b[0m\u001b[0;34m)\u001b[0m\u001b[0;34m\u001b[0m\u001b[0m\n",
      "\u001b[0;32m/home/cdeng/anaconda3/lib/python3.6/site-packages/tensorflow/python/client/session.py\u001b[0m in \u001b[0;36m_run\u001b[0;34m(self, handle, fetches, feed_dict, options, run_metadata)\u001b[0m\n\u001b[1;32m    995\u001b[0m     \u001b[0;32mif\u001b[0m \u001b[0mfinal_fetches\u001b[0m \u001b[0;32mor\u001b[0m \u001b[0mfinal_targets\u001b[0m\u001b[0;34m:\u001b[0m\u001b[0;34m\u001b[0m\u001b[0m\n\u001b[1;32m    996\u001b[0m       results = self._do_run(handle, final_targets, final_fetches,\n\u001b[0;32m--> 997\u001b[0;31m                              feed_dict_string, options, run_metadata)\n\u001b[0m\u001b[1;32m    998\u001b[0m     \u001b[0;32melse\u001b[0m\u001b[0;34m:\u001b[0m\u001b[0;34m\u001b[0m\u001b[0m\n\u001b[1;32m    999\u001b[0m       \u001b[0mresults\u001b[0m \u001b[0;34m=\u001b[0m \u001b[0;34m[\u001b[0m\u001b[0;34m]\u001b[0m\u001b[0;34m\u001b[0m\u001b[0m\n",
      "\u001b[0;32m/home/cdeng/anaconda3/lib/python3.6/site-packages/tensorflow/python/client/session.py\u001b[0m in \u001b[0;36m_do_run\u001b[0;34m(self, handle, target_list, fetch_list, feed_dict, options, run_metadata)\u001b[0m\n\u001b[1;32m   1130\u001b[0m     \u001b[0;32mif\u001b[0m \u001b[0mhandle\u001b[0m \u001b[0;32mis\u001b[0m \u001b[0;32mNone\u001b[0m\u001b[0;34m:\u001b[0m\u001b[0;34m\u001b[0m\u001b[0m\n\u001b[1;32m   1131\u001b[0m       return self._do_call(_run_fn, self._session, feed_dict, fetch_list,\n\u001b[0;32m-> 1132\u001b[0;31m                            target_list, options, run_metadata)\n\u001b[0m\u001b[1;32m   1133\u001b[0m     \u001b[0;32melse\u001b[0m\u001b[0;34m:\u001b[0m\u001b[0;34m\u001b[0m\u001b[0m\n\u001b[1;32m   1134\u001b[0m       return self._do_call(_prun_fn, self._session, handle, feed_dict,\n",
      "\u001b[0;32m/home/cdeng/anaconda3/lib/python3.6/site-packages/tensorflow/python/client/session.py\u001b[0m in \u001b[0;36m_do_call\u001b[0;34m(self, fn, *args)\u001b[0m\n\u001b[1;32m   1137\u001b[0m   \u001b[0;32mdef\u001b[0m \u001b[0m_do_call\u001b[0m\u001b[0;34m(\u001b[0m\u001b[0mself\u001b[0m\u001b[0;34m,\u001b[0m \u001b[0mfn\u001b[0m\u001b[0;34m,\u001b[0m \u001b[0;34m*\u001b[0m\u001b[0margs\u001b[0m\u001b[0;34m)\u001b[0m\u001b[0;34m:\u001b[0m\u001b[0;34m\u001b[0m\u001b[0m\n\u001b[1;32m   1138\u001b[0m     \u001b[0;32mtry\u001b[0m\u001b[0;34m:\u001b[0m\u001b[0;34m\u001b[0m\u001b[0m\n\u001b[0;32m-> 1139\u001b[0;31m       \u001b[0;32mreturn\u001b[0m \u001b[0mfn\u001b[0m\u001b[0;34m(\u001b[0m\u001b[0;34m*\u001b[0m\u001b[0margs\u001b[0m\u001b[0;34m)\u001b[0m\u001b[0;34m\u001b[0m\u001b[0m\n\u001b[0m\u001b[1;32m   1140\u001b[0m     \u001b[0;32mexcept\u001b[0m \u001b[0merrors\u001b[0m\u001b[0;34m.\u001b[0m\u001b[0mOpError\u001b[0m \u001b[0;32mas\u001b[0m \u001b[0me\u001b[0m\u001b[0;34m:\u001b[0m\u001b[0;34m\u001b[0m\u001b[0m\n\u001b[1;32m   1141\u001b[0m       \u001b[0mmessage\u001b[0m \u001b[0;34m=\u001b[0m \u001b[0mcompat\u001b[0m\u001b[0;34m.\u001b[0m\u001b[0mas_text\u001b[0m\u001b[0;34m(\u001b[0m\u001b[0me\u001b[0m\u001b[0;34m.\u001b[0m\u001b[0mmessage\u001b[0m\u001b[0;34m)\u001b[0m\u001b[0;34m\u001b[0m\u001b[0m\n",
      "\u001b[0;32m/home/cdeng/anaconda3/lib/python3.6/site-packages/tensorflow/python/client/session.py\u001b[0m in \u001b[0;36m_run_fn\u001b[0;34m(session, feed_dict, fetch_list, target_list, options, run_metadata)\u001b[0m\n\u001b[1;32m   1119\u001b[0m         return tf_session.TF_Run(session, options,\n\u001b[1;32m   1120\u001b[0m                                  \u001b[0mfeed_dict\u001b[0m\u001b[0;34m,\u001b[0m \u001b[0mfetch_list\u001b[0m\u001b[0;34m,\u001b[0m \u001b[0mtarget_list\u001b[0m\u001b[0;34m,\u001b[0m\u001b[0;34m\u001b[0m\u001b[0m\n\u001b[0;32m-> 1121\u001b[0;31m                                  status, run_metadata)\n\u001b[0m\u001b[1;32m   1122\u001b[0m \u001b[0;34m\u001b[0m\u001b[0m\n\u001b[1;32m   1123\u001b[0m     \u001b[0;32mdef\u001b[0m \u001b[0m_prun_fn\u001b[0m\u001b[0;34m(\u001b[0m\u001b[0msession\u001b[0m\u001b[0;34m,\u001b[0m \u001b[0mhandle\u001b[0m\u001b[0;34m,\u001b[0m \u001b[0mfeed_dict\u001b[0m\u001b[0;34m,\u001b[0m \u001b[0mfetch_list\u001b[0m\u001b[0;34m)\u001b[0m\u001b[0;34m:\u001b[0m\u001b[0;34m\u001b[0m\u001b[0m\n",
      "\u001b[0;31mKeyboardInterrupt\u001b[0m: "
     ]
    }
   ],
   "source": [
    "from keras.utils.vis_utils import model_to_dot\n",
    "# import pydot\n",
    "# import graphviz\n",
    "# from IPython.display import SVG\n",
    "# After studying the dataset, ignore the last data from ground truth. Because the second last element \n",
    "# has the timestamp that happens to be the middle point of image 3661 and 3662 (opened in Office, column index)\n",
    "datasize = imu_data.shape[0] \n",
    "train_val_split_ratio = 0.7\n",
    "training_size = int(datasize*train_val_split_ratio//10*10)\n",
    "print(' Training size is: {} \\n Testing size is: {}'.format(training_size, datasize-training_size))\n",
    "training_input = imu_data[:training_size]\n",
    "training_groudtruth = groudtruth_data[:training_size]\n",
    "testing_input = imu_data[training_size:]\n",
    "testing_groundtruth = groudtruth_data[training_size:]\n",
    "\n",
    "training_input = np.array(training_input)\n",
    "training_groudtruth = np.array(training_groudtruth)\n",
    "testing_input = np.array(testing_input)\n",
    "testing_groundtruth = np.array(testing_groundtruth)\n",
    "# print (training_input.shape)\n",
    "# print (training_groudtruth.shape)\n",
    "# print (testing_input.shape)\n",
    "# print (testing_groundtruth.shape)\n",
    "\n",
    "\n",
    "def report_loss(model, batch_size, input_data, groundtruth):\n",
    "    X = input_data.reshape(1,input_data.shape[0],input_data.shape[1])    \n",
    "    predictions = model.predict(X,batch_size)\n",
    "    loss = mean_squared_error(predictions,groundtruth)\n",
    "    print ('predictionis shape is ',predictions.shape)\n",
    "    return loss\n",
    "\n",
    "# Find a way to record the error and some other data for visualizing\n",
    "log_dir = '/home/cdeng/master/tmp/logs/sensor_fusion_LSTM'\n",
    "\n",
    "\n",
    "\n",
    "\n",
    "neurons = 64\n",
    "batch_size = 1\n",
    "num_epoch = 1000\n",
    "#-------***************--------------#\n",
    "# IMU 200Hz,   1 min = 1200 samples\n",
    "series_length = 200\n",
    "num_episodes  = (training_input.shape[0]//series_length)\n",
    "train_X = training_input[:num_episodes*series_length,:].reshape(num_episodes, series_length, training_input.shape[1])\n",
    "train_y = training_groudtruth[:num_episodes*series_length].reshape(num_episodes,series_length, training_groudtruth.shape[1])\n",
    "#-------***************------------#\n",
    "\n",
    "# train_X = np.expand_dims(training_input,axis=0)\n",
    "# train_y = np.expand_dims(training_groudtruth, axis=0)\n",
    "\n",
    "\n",
    "test_X = np.expand_dims(testing_input, axis=0)\n",
    "test_y = np.expand_dims(testing_groundtruth,axis=0)\n",
    "print (train_X.shape)\n",
    "print (train_y.shape)\n",
    "print (test_X.shape)\n",
    "print (test_y.shape)\n",
    "\n",
    "model = Sequential()\n",
    "model.add(LSTM(neurons, input_dim = train_X.shape[2], stateful=False, return_sequences=True))\n",
    "model.add(TimeDistributed(Dense(7)))\n",
    "model.compile(loss='mse', optimizer='adam')\n",
    "\n",
    "# plot_model(model, to_file='model.png')\n",
    "tbCallBack = TensorBoard(log_dir=log_dir, histogram_freq=1, write_graph=True, batch_size=batch_size)\n",
    "# for i in range(num_epoch):\n",
    "#     start = time.time()\n",
    "hist = model.fit(train_X, train_y, epochs=num_epoch, batch_size=batch_size, verbose=1, \n",
    "                     validation_data=(test_X, test_y), shuffle=False, callbacks=[tbCallBack] )\n",
    "#     end = time.time()\n",
    "#     eva = model.evaluate(test_X, test_y, batch_size=batch_size, verbose=1)\n",
    "#     print ('Testing loss after 1 epoch is: %f', eva)\n",
    "#     print (hist.history)\n",
    "#     loss = report_loss(model,1,training_input, training_groudtruth)\n",
    "#     print ('Error at epoch %d is %f . Time consumed is %f seconds'%(i, loss, end-start))\n",
    "\n",
    "model.reset_states()"
   ]
  },
  {
   "cell_type": "code",
   "execution_count": null,
   "metadata": {},
   "outputs": [],
   "source": [
    "import json\n",
    "print(json.dumps(hist.history, indent=1))"
   ]
  },
  {
   "cell_type": "code",
   "execution_count": null,
   "metadata": {},
   "outputs": [],
   "source": [
    "model.evaluate(test_X, test_y, batch_size=1, verbose=1)"
   ]
  },
  {
   "cell_type": "code",
   "execution_count": null,
   "metadata": {},
   "outputs": [],
   "source": [
    "print (model.summary())\n",
    "model.get_config()"
   ]
  }
 ],
 "metadata": {
  "kernelspec": {
   "display_name": "Python 3",
   "language": "python",
   "name": "python3"
  },
  "language_info": {
   "codemirror_mode": {
    "name": "ipython",
    "version": 3
   },
   "file_extension": ".py",
   "mimetype": "text/x-python",
   "name": "python",
   "nbconvert_exporter": "python",
   "pygments_lexer": "ipython3",
   "version": "3.6.1"
  }
 },
 "nbformat": 4,
 "nbformat_minor": 2
}
