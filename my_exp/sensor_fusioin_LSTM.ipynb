{
 "cells": [
  {
   "cell_type": "code",
   "execution_count": 1,
   "metadata": {
    "collapsed": true
   },
   "outputs": [],
   "source": [
    "# EuRoC data handler\n",
    "import pandas as pd\n",
    "import numpy as np\n",
    "# class euroc_data():\n",
    "# \tdef __init__(self,groundtruth_path):\n",
    "# \t\tgt_frame = pd.read_csv(groundtruth_path,'r')\n",
    "GROUNDTRUTH_PATH = '/home/cdeng/EuRoC/mav0/\\\n",
    "state_groundtruth_estimate0/data.csv'\n",
    "IMU_PATH = '/home/cdeng/EuRoC/mav0/imu0/data.csv'"
   ]
  },
  {
   "cell_type": "code",
   "execution_count": 2,
   "metadata": {},
   "outputs": [],
   "source": [
    "gt_dataframe = pd.read_csv(GROUNDTRUTH_PATH, index_col=0)\n",
    "imu_dataframe = pd.read_csv(IMU_PATH, index_col=0)\n",
    "# print(gt_dataframe.head(3))\n",
    "# print('-----------------')\n",
    "# print(imu_dataframe.head(3))"
   ]
  },
  {
   "cell_type": "code",
   "execution_count": 3,
   "metadata": {},
   "outputs": [
    {
     "name": "stdout",
     "output_type": "stream",
     "text": [
      "1403636580838555648 1403636762738555392\n"
     ]
    }
   ],
   "source": [
    "# Find the start and end time stamp of the ground truth, \n",
    "# and extract relevant imu data frame, gt and imu should be same length  \n",
    "groudtruth_data = gt_dataframe.iloc[:-1,0:7]\n",
    "start_time, end_time = groudtruth_data.index[0], groudtruth_data.index[-1]\n",
    "print (start_time, end_time)"
   ]
  },
  {
   "cell_type": "code",
   "execution_count": 4,
   "metadata": {},
   "outputs": [
    {
     "name": "stdout",
     "output_type": "stream",
     "text": [
      "216 36596\n"
     ]
    }
   ],
   "source": [
    "# Set threshold to 2 000 000 ns, because the time interval between imu data is 5 000 000 ns\n",
    "threshold = 1000000\n",
    "[imu_start_idx, imu_end_idx] = [idx for (idx, timestamp) in enumerate(imu_dataframe.index)  \\\n",
    "    if (abs(timestamp-start_time)<threshold or abs(timestamp-end_time)<threshold)]\n",
    "print (imu_start_idx, imu_end_idx)"
   ]
  },
  {
   "cell_type": "code",
   "execution_count": 5,
   "metadata": {
    "collapsed": true
   },
   "outputs": [],
   "source": [
    "# for timestamp in imu_dataframe['#timestamp [ns]']:\n",
    "#     if (abs(timestamp-start_time)<threshold or abs(timestamp-end_time)<threshold):\n",
    "#         print (timestamp)"
   ]
  },
  {
   "cell_type": "code",
   "execution_count": 9,
   "metadata": {},
   "outputs": [
    {
     "name": "stdout",
     "output_type": "stream",
     "text": [
      "(36381, 6)\n",
      "(36381, 7)\n"
     ]
    },
    {
     "data": {
      "text/html": [
       "<div>\n",
       "<style>\n",
       "    .dataframe thead tr:only-child th {\n",
       "        text-align: right;\n",
       "    }\n",
       "\n",
       "    .dataframe thead th {\n",
       "        text-align: left;\n",
       "    }\n",
       "\n",
       "    .dataframe tbody tr th {\n",
       "        vertical-align: top;\n",
       "    }\n",
       "</style>\n",
       "<table border=\"1\" class=\"dataframe\">\n",
       "  <thead>\n",
       "    <tr style=\"text-align: right;\">\n",
       "      <th></th>\n",
       "      <th>w_RS_S_x [rad s^-1]</th>\n",
       "      <th>w_RS_S_y [rad s^-1]</th>\n",
       "      <th>w_RS_S_z [rad s^-1]</th>\n",
       "      <th>a_RS_S_x [m s^-2]</th>\n",
       "      <th>a_RS_S_y [m s^-2]</th>\n",
       "      <th>a_RS_S_z [m s^-2]</th>\n",
       "    </tr>\n",
       "    <tr>\n",
       "      <th>#timestamp [ns]</th>\n",
       "      <th></th>\n",
       "      <th></th>\n",
       "      <th></th>\n",
       "      <th></th>\n",
       "      <th></th>\n",
       "      <th></th>\n",
       "    </tr>\n",
       "  </thead>\n",
       "  <tbody>\n",
       "    <tr>\n",
       "      <th>1403636762718555392</th>\n",
       "      <td>-0.055851</td>\n",
       "      <td>0.184307</td>\n",
       "      <td>-0.169646</td>\n",
       "      <td>8.229414</td>\n",
       "      <td>0.784532</td>\n",
       "      <td>-2.075741</td>\n",
       "    </tr>\n",
       "    <tr>\n",
       "      <th>1403636762723555584</th>\n",
       "      <td>-0.108909</td>\n",
       "      <td>0.070511</td>\n",
       "      <td>-0.157080</td>\n",
       "      <td>9.496106</td>\n",
       "      <td>-0.204305</td>\n",
       "      <td>-4.135137</td>\n",
       "    </tr>\n",
       "    <tr>\n",
       "      <th>1403636762728555520</th>\n",
       "      <td>-0.077493</td>\n",
       "      <td>0.181514</td>\n",
       "      <td>-0.208043</td>\n",
       "      <td>7.028099</td>\n",
       "      <td>-0.449471</td>\n",
       "      <td>-2.043052</td>\n",
       "    </tr>\n",
       "    <tr>\n",
       "      <th>1403636762733555456</th>\n",
       "      <td>-0.086568</td>\n",
       "      <td>0.016755</td>\n",
       "      <td>-0.169646</td>\n",
       "      <td>9.635034</td>\n",
       "      <td>-0.286027</td>\n",
       "      <td>-3.383294</td>\n",
       "    </tr>\n",
       "  </tbody>\n",
       "</table>\n",
       "</div>"
      ],
      "text/plain": [
       "                     w_RS_S_x [rad s^-1]  w_RS_S_y [rad s^-1]  \\\n",
       "#timestamp [ns]                                                 \n",
       "1403636762718555392            -0.055851             0.184307   \n",
       "1403636762723555584            -0.108909             0.070511   \n",
       "1403636762728555520            -0.077493             0.181514   \n",
       "1403636762733555456            -0.086568             0.016755   \n",
       "\n",
       "                     w_RS_S_z [rad s^-1]  a_RS_S_x [m s^-2]  \\\n",
       "#timestamp [ns]                                               \n",
       "1403636762718555392            -0.169646           8.229414   \n",
       "1403636762723555584            -0.157080           9.496106   \n",
       "1403636762728555520            -0.208043           7.028099   \n",
       "1403636762733555456            -0.169646           9.635034   \n",
       "\n",
       "                     a_RS_S_y [m s^-2]  a_RS_S_z [m s^-2]  \n",
       "#timestamp [ns]                                            \n",
       "1403636762718555392           0.784532          -2.075741  \n",
       "1403636762723555584          -0.204305          -4.135137  \n",
       "1403636762728555520          -0.449471          -2.043052  \n",
       "1403636762733555456          -0.286027          -3.383294  "
      ]
     },
     "execution_count": 9,
     "metadata": {},
     "output_type": "execute_result"
    }
   ],
   "source": [
    "# ---------imu data at t-1 is used to predicate gt at t\n",
    "# Groundtruth is for image 1-n, [first_image_middle_exp_time, last_image_middle_exp_time], that't why the number of \n",
    "# datapoints end with 1.\n",
    "imu_data = imu_dataframe[imu_start_idx-1:imu_end_idx].copy()\n",
    "\n",
    "if (groudtruth_data.shape[0] != imu_data.shape[0]):\n",
    "    print(\"'Error: groundtruth and imu data don't have the same lenght'\")\n",
    "print (imu_data.shape)\n",
    "print (groudtruth_data.shape)\n",
    "\n",
    "imu_data.tail(4)\n",
    "# imu_data.iloc[1:3]\n",
    "# imu_dataframe[0:6]"
   ]
  },
  {
   "cell_type": "code",
   "execution_count": 12,
   "metadata": {},
   "outputs": [
    {
     "data": {
      "text/plain": [
       "(25460, 6)"
      ]
     },
     "execution_count": 12,
     "metadata": {},
     "output_type": "execute_result"
    }
   ],
   "source": [
    "training_input.shape"
   ]
  },
  {
   "cell_type": "code",
   "execution_count": 51,
   "metadata": {
    "collapsed": true
   },
   "outputs": [],
   "source": [
    "# Use the simple keras deep learning API\n",
    "import tensorflow as tf\n",
    "from sklearn.metrics import mean_squared_error\n",
    "from keras.models import Sequential\n",
    "from keras.callbacks import TensorBoard\n",
    "from keras.layers import Dense\n",
    "from keras.layers import LSTM\n",
    "from math import sqrt\n",
    "import time"
   ]
  },
  {
   "cell_type": "code",
   "execution_count": 52,
   "metadata": {},
   "outputs": [
    {
     "name": "stdout",
     "output_type": "stream",
     "text": [
      "Training size is: 25460 \n",
      " Testing size is: 10921\n",
      "(100, 6)\n",
      "(100, 6)\n",
      "Error at epoch 0 is 0.079088 . Time consumed is 6.086818 seconds\n",
      "Error at epoch 1 is 0.057904 . Time consumed is 4.647493 seconds\n",
      "Error at epoch 2 is 0.051958 . Time consumed is 4.624977 seconds\n",
      "Error at epoch 3 is 0.046044 . Time consumed is 4.930491 seconds\n",
      "Error at epoch 4 is 0.040157 . Time consumed is 5.032720 seconds\n",
      "Error at epoch 5 is 0.035281 . Time consumed is 4.675458 seconds\n",
      "Error at epoch 6 is 0.031209 . Time consumed is 4.630860 seconds\n",
      "Error at epoch 7 is 0.027284 . Time consumed is 5.005247 seconds\n",
      "Error at epoch 8 is 0.023677 . Time consumed is 4.605816 seconds\n",
      "Error at epoch 9 is 0.020567 . Time consumed is 4.611587 seconds\n",
      "Error at epoch 10 is 0.018099 . Time consumed is 4.729308 seconds\n",
      "Error at epoch 11 is 0.016002 . Time consumed is 5.162526 seconds\n",
      "Error at epoch 12 is 0.014265 . Time consumed is 4.608140 seconds\n",
      "Error at epoch 13 is 0.012847 . Time consumed is 4.687553 seconds\n",
      "Error at epoch 14 is 0.011634 . Time consumed is 4.613729 seconds\n",
      "Error at epoch 15 is 0.010617 . Time consumed is 4.635396 seconds\n",
      "Error at epoch 16 is 0.009814 . Time consumed is 4.635538 seconds\n",
      "Error at epoch 17 is 0.009384 . Time consumed is 4.666369 seconds\n",
      "Error at epoch 18 is 0.008632 . Time consumed is 4.616741 seconds\n",
      "Error at epoch 19 is 0.007484 . Time consumed is 4.976598 seconds\n",
      "Error at epoch 20 is 0.007118 . Time consumed is 4.686445 seconds\n",
      "Error at epoch 21 is 0.006900 . Time consumed is 4.608545 seconds\n",
      "Error at epoch 22 is 0.006592 . Time consumed is 4.620099 seconds\n",
      "Error at epoch 23 is 0.006330 . Time consumed is 4.662283 seconds\n",
      "Error at epoch 24 is 0.006010 . Time consumed is 4.637441 seconds\n",
      "Error at epoch 25 is 0.005807 . Time consumed is 4.641779 seconds\n",
      "Error at epoch 26 is 0.005621 . Time consumed is 5.003468 seconds\n",
      "Error at epoch 27 is 0.005399 . Time consumed is 4.631011 seconds\n",
      "Error at epoch 28 is 0.005359 . Time consumed is 4.853891 seconds\n",
      "Error at epoch 29 is 0.005095 . Time consumed is 4.640082 seconds\n",
      "Error at epoch 30 is 0.005175 . Time consumed is 4.987041 seconds\n",
      "Error at epoch 31 is 0.004852 . Time consumed is 5.070586 seconds\n",
      "Error at epoch 32 is 0.004903 . Time consumed is 4.656569 seconds\n",
      "Error at epoch 33 is 0.004615 . Time consumed is 4.847288 seconds\n",
      "Error at epoch 34 is 0.004636 . Time consumed is 4.644650 seconds\n",
      "Error at epoch 35 is 0.004497 . Time consumed is 5.052070 seconds\n",
      "Error at epoch 36 is 0.004729 . Time consumed is 4.915079 seconds\n",
      "Error at epoch 37 is 0.004675 . Time consumed is 4.631511 seconds\n",
      "Error at epoch 38 is 0.005200 . Time consumed is 4.622511 seconds\n",
      "Error at epoch 39 is 0.005459 . Time consumed is 4.629189 seconds\n",
      "Error at epoch 40 is 0.005286 . Time consumed is 5.026893 seconds\n",
      "Error at epoch 41 is 0.004801 . Time consumed is 5.017676 seconds\n",
      "Error at epoch 42 is 0.004366 . Time consumed is 4.642840 seconds\n",
      "Error at epoch 43 is 0.004597 . Time consumed is 4.604648 seconds\n",
      "Error at epoch 44 is 0.004560 . Time consumed is 5.331426 seconds\n",
      "Error at epoch 45 is 0.004936 . Time consumed is 4.717539 seconds\n",
      "Error at epoch 46 is 0.004913 . Time consumed is 4.654457 seconds\n",
      "Error at epoch 47 is 0.004938 . Time consumed is 4.611463 seconds\n",
      "Error at epoch 48 is 0.004674 . Time consumed is 4.614770 seconds\n",
      "Error at epoch 49 is 0.004467 . Time consumed is 5.064060 seconds\n",
      "Error at epoch 50 is 0.004019 . Time consumed is 4.595208 seconds\n",
      "Error at epoch 51 is 0.003800 . Time consumed is 4.621725 seconds\n",
      "Error at epoch 52 is 0.003573 . Time consumed is 5.360013 seconds\n",
      "Error at epoch 53 is 0.003540 . Time consumed is 4.603081 seconds\n",
      "Error at epoch 54 is 0.003466 . Time consumed is 4.989241 seconds\n",
      "Error at epoch 55 is 0.003633 . Time consumed is 4.646947 seconds\n",
      "Error at epoch 56 is 0.003705 . Time consumed is 4.999497 seconds\n",
      "Error at epoch 57 is 0.003696 . Time consumed is 4.580108 seconds\n",
      "Error at epoch 58 is 0.003093 . Time consumed is 5.019523 seconds\n",
      "Error at epoch 59 is 0.002638 . Time consumed is 4.606184 seconds\n",
      "Error at epoch 60 is 0.002788 . Time consumed is 5.301074 seconds\n",
      "Error at epoch 61 is 0.003388 . Time consumed is 4.630610 seconds\n",
      "Error at epoch 62 is 0.004140 . Time consumed is 4.620963 seconds\n",
      "Error at epoch 63 is 0.004716 . Time consumed is 4.633537 seconds\n",
      "Error at epoch 64 is 0.004371 . Time consumed is 4.595864 seconds\n",
      "Error at epoch 65 is 0.003424 . Time consumed is 4.624651 seconds\n",
      "Error at epoch 66 is 0.002708 . Time consumed is 5.017273 seconds\n",
      "Error at epoch 67 is 0.002324 . Time consumed is 4.999829 seconds\n",
      "Error at epoch 68 is 0.002160 . Time consumed is 4.915158 seconds\n",
      "Error at epoch 69 is 0.002100 . Time consumed is 5.064164 seconds\n",
      "Error at epoch 70 is 0.002080 . Time consumed is 4.596966 seconds\n",
      "Error at epoch 71 is 0.002126 . Time consumed is 4.569572 seconds\n",
      "Error at epoch 72 is 0.002246 . Time consumed is 4.609940 seconds\n",
      "Error at epoch 73 is 0.002368 . Time consumed is 4.679927 seconds\n",
      "Error at epoch 74 is 0.002518 . Time consumed is 4.649619 seconds\n",
      "Error at epoch 75 is 0.002674 . Time consumed is 4.616323 seconds\n",
      "Error at epoch 76 is 0.003204 . Time consumed is 4.947278 seconds\n",
      "Error at epoch 77 is 0.004431 . Time consumed is 4.691406 seconds\n",
      "Error at epoch 78 is 0.003301 . Time consumed is 4.647379 seconds\n",
      "Error at epoch 79 is 0.004998 . Time consumed is 4.679443 seconds\n",
      "Error at epoch 80 is 0.006054 . Time consumed is 4.866343 seconds\n",
      "Error at epoch 81 is 0.004623 . Time consumed is 4.629352 seconds\n",
      "Error at epoch 82 is 0.002737 . Time consumed is 4.929303 seconds\n",
      "Error at epoch 83 is 0.002585 . Time consumed is 4.673898 seconds\n",
      "Error at epoch 84 is 0.003102 . Time consumed is 5.502126 seconds\n",
      "Error at epoch 85 is 0.003552 . Time consumed is 4.682888 seconds\n",
      "Error at epoch 86 is 0.003927 . Time consumed is 4.670418 seconds\n",
      "Error at epoch 87 is 0.004183 . Time consumed is 4.622320 seconds\n",
      "Error at epoch 88 is 0.004177 . Time consumed is 4.982756 seconds\n",
      "Error at epoch 89 is 0.003802 . Time consumed is 4.653879 seconds\n",
      "Error at epoch 90 is 0.003392 . Time consumed is 4.667103 seconds\n",
      "Error at epoch 91 is 0.003125 . Time consumed is 4.735135 seconds\n",
      "Error at epoch 92 is 0.002978 . Time consumed is 5.386399 seconds\n",
      "Error at epoch 93 is 0.002892 . Time consumed is 4.843257 seconds\n",
      "Error at epoch 94 is 0.002654 . Time consumed is 4.629935 seconds\n",
      "Error at epoch 95 is 0.002163 . Time consumed is 4.663163 seconds\n",
      "Error at epoch 96 is 0.001844 . Time consumed is 4.600516 seconds\n",
      "Error at epoch 97 is 0.001965 . Time consumed is 4.610210 seconds\n",
      "Error at epoch 98 is 0.002454 . Time consumed is 4.581443 seconds\n",
      "Error at epoch 99 is 0.003236 . Time consumed is 5.020675 seconds\n"
     ]
    }
   ],
   "source": [
    "\n",
    "# After studying the dataset, ignore the last data from ground truth. Because the second last element \n",
    "# has the timestamp that happens to be the middle point of image 3661 and 3662 (opened in Office, column index)\n",
    "datasize = imu_data.shape[0] \n",
    "train_val_split_ratio = 0.7\n",
    "training_size = int(datasize*train_val_split_ratio//10*10)\n",
    "print('Training size is: {} \\n Testing size is: {}'.format(training_size, datasize-training_size))\n",
    "training_input = imu_data[:training_size]\n",
    "training_groudtruth = groudtruth_data[:training_size]\n",
    "testing_input = imu_data[training_size:]\n",
    "testing_groundtruth = groudtruth_data[training_size:]\n",
    "# imu_data.iloc[0]\n",
    "# imu_data.iloc[0]\n",
    "\n",
    "def find_error(model, batch_size, input_data, groundtruth):\n",
    "    X = input_data.reshape(input_data.shape[0],1,input_data.shape[1])    \n",
    "    predictions = model.predict(X,batch_size)\n",
    "    error = mean_squared_error(predictions,groundtruth)\n",
    "    return error\n",
    "def fit_lstm(find_error, log_dir, training_input, training_groudtruth, batch_size, num_epoch, neurons):\n",
    "    # For now, I set sequence length to 1, in reality, it is better to be 10.\n",
    "    print (training_input.shape)\n",
    "    X = training_input.reshape(training_input.shape[0], 1, training_input.shape[1])\n",
    "    y = training_groudtruth\n",
    "    model = Sequential()\n",
    "    model.add(LSTM(neurons, batch_input_shape=(batch_size, X.shape[1], X.shape[2])))\n",
    "    model.add(Dense(7))\n",
    "    model.compile(loss='mse', optimizer='adam')\n",
    "    tbCallBack = TensorBoard(log_dir=log_dir, histogram_freq=0, write_graph=True, write_images=True)\n",
    "    for i in range(num_epoch):\n",
    "        start = time.time()\n",
    "        model.fit(X, y, epochs=1, batch_size=batch_size, verbose=0,shuffle=False,stateful=True, callbacks=[tbCallBack])\n",
    "        end = time.time()\n",
    "        error = find_error(model,1,training_input, training_groudtruth)\n",
    "        print ('Error at epoch %d is %f . Time consumed is %f seconds'%(i, error, end-start))\n",
    "        \n",
    "        model.reset_states()\n",
    "    return model\n",
    "\n",
    "# Find a way to record the error and some other data for visualizing\n",
    "log_dir = '/home/cdeng/master/tmp/logs/sensor_fusion_LSTM'\n",
    "\n",
    "\n",
    "training_input = np.array(training_input)[:100,:]\n",
    "print (training_input.shape)\n",
    "training_groudtruth = np.array(training_groudtruth)[:100,:]\n",
    "testing_input = np.array(training_input)\n",
    "testing_groundtruth = np.array(testing_groundtruth)\n",
    "lstm_model = fit_lstm(find_error, log_dir, training_input, training_groudtruth, batch_size=1, num_epoch=100,neurons=64)"
   ]
  },
  {
   "cell_type": "code",
   "execution_count": null,
   "metadata": {
    "collapsed": true
   },
   "outputs": [],
   "source": []
  }
 ],
 "metadata": {
  "kernelspec": {
   "display_name": "Python 3",
   "language": "python",
   "name": "python3"
  },
  "language_info": {
   "codemirror_mode": {
    "name": "ipython",
    "version": 3
   },
   "file_extension": ".py",
   "mimetype": "text/x-python",
   "name": "python",
   "nbconvert_exporter": "python",
   "pygments_lexer": "ipython3",
   "version": "3.6.1"
  }
 },
 "nbformat": 4,
 "nbformat_minor": 2
}
